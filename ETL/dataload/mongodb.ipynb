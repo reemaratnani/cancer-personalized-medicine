{
 "cells": [
  {
   "cell_type": "code",
   "execution_count": 1,
   "metadata": {},
   "outputs": [],
   "source": [
    "import pandas as pd\n",
    "import pymongo\n",
    "import json\n",
    "import warnings\n",
    "warnings.filterwarnings('ignore')"
   ]
  },
  {
   "cell_type": "code",
   "execution_count": 2,
   "metadata": {},
   "outputs": [],
   "source": [
    "# Function was developed to load two csvfiles into MongoDB\n",
    "def import_content(filepath, collection_name):\n",
    "\n",
    "    client = pymongo.MongoClient('localhost', 27017)\n",
    "\n",
    "    db = client['gene_db'] # Database name was given here\n",
    "\n",
    "    collection_name =  collection_name\n",
    "\n",
    "    db_cm = db[collection_name]\n",
    "    \n",
    "    data = pd.read_csv(filepath)\n",
    "\n",
    "    data_json = json.loads(data.to_json(orient='records'))\n",
    "\n",
    "    db_cm.remove()\n",
    "\n",
    "    db_cm.insert(data_json)"
   ]
  },
  {
   "cell_type": "code",
   "execution_count": 3,
   "metadata": {},
   "outputs": [],
   "source": [
    "\n",
    "#  csvfile was loaded to database in collection \"gene_variants\"\n",
    "filepath = 'gene_variants.csv'\n",
    "collection_name = 'gene_variants' \n",
    "import_content(filepath,collection_name)"
   ]
  },
  {
   "cell_type": "code",
   "execution_count": 4,
   "metadata": {},
   "outputs": [],
   "source": [
    "#  csvfile was loaded to database in collection \"gene_variants\"\n",
    "filepath = 'geneData.csv'\n",
    "collection_name = 'geneData' \n",
    "import_content(filepath,collection_name)"
   ]
  },
  {
   "cell_type": "code",
   "execution_count": 5,
   "metadata": {},
   "outputs": [],
   "source": [
    "#  csvfile was loaded to database in collection \"gene_variants\"\n",
    "filepath = 'somatic.csv'\n",
    "collection_name = 'somatic' \n",
    "import_content(filepath,collection_name)"
   ]
  },
  {
   "cell_type": "code",
   "execution_count": 6,
   "metadata": {},
   "outputs": [],
   "source": [
    "client = pymongo.MongoClient('localhost', 27017)\n",
    "\n",
    "db = client.gene_db"
   ]
  },
  {
   "cell_type": "code",
   "execution_count": 7,
   "metadata": {},
   "outputs": [
    {
     "data": {
      "text/plain": [
       "['somatic', 'geneData', 'gene_variants']"
      ]
     },
     "execution_count": 7,
     "metadata": {},
     "output_type": "execute_result"
    }
   ],
   "source": [
    "db.collection_names()"
   ]
  },
  {
   "cell_type": "code",
   "execution_count": 7,
   "metadata": {},
   "outputs": [
    {
     "data": {
      "text/plain": [
       "{'_id': ObjectId('5cc3e6388d5fac6cc0505807'),\n",
       " 'ID': 0,\n",
       " 'Gene': 'FAM58A',\n",
       " 'Variation': 'Truncating Mutations',\n",
       " 'Class': 1}"
      ]
     },
     "execution_count": 7,
     "metadata": {},
     "output_type": "execute_result"
    }
   ],
   "source": [
    "db.gene_variants.find_one()"
   ]
  },
  {
   "cell_type": "code",
   "execution_count": 8,
   "metadata": {},
   "outputs": [
    {
     "data": {
      "text/plain": [
       "{'_id': ObjectId('5cc517ee8d5fac71940f022e'),\n",
       " 'Gene Symbol': 'A1CF',\n",
       " 'Name': 'APOBEC1 complementation factor',\n",
       " 'Tier': 2,\n",
       " 'Somatic': 'yes',\n",
       " 'Germline': 'No',\n",
       " 'Tumour Types(Somatic)': 'melanoma',\n",
       " 'Tissue Type': 'E',\n",
       " 'Molecular Genetics': None,\n",
       " 'Role in Cancer': 'oncogene',\n",
       " 'Mutation Types': 'Mis'}"
      ]
     },
     "execution_count": 8,
     "metadata": {},
     "output_type": "execute_result"
    }
   ],
   "source": [
    "db.geneData.find_one()"
   ]
  },
  {
   "cell_type": "code",
   "execution_count": 11,
   "metadata": {},
   "outputs": [
    {
     "data": {
      "text/plain": [
       "3321"
      ]
     },
     "execution_count": 11,
     "metadata": {},
     "output_type": "execute_result"
    }
   ],
   "source": [
    "db.gene_variants.count()"
   ]
  },
  {
   "cell_type": "code",
   "execution_count": null,
   "metadata": {},
   "outputs": [],
   "source": []
  }
 ],
 "metadata": {
  "kernelspec": {
   "display_name": "Python 3",
   "language": "python",
   "name": "python3"
  },
  "language_info": {
   "codemirror_mode": {
    "name": "ipython",
    "version": 3
   },
   "file_extension": ".py",
   "mimetype": "text/x-python",
   "name": "python",
   "nbconvert_exporter": "python",
   "pygments_lexer": "ipython3",
   "version": "3.7.0"
  }
 },
 "nbformat": 4,
 "nbformat_minor": 2
}
